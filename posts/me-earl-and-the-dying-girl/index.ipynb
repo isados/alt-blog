{
 "cells": [
  {
   "cell_type": "raw",
   "metadata": {},
   "source": [
    "---\n",
    "badges: false\n",
    "categories:\n",
    "- movies\n",
    "date: '2019-06-27'\n",
    "author: 'Isa AlDoseri'\n",
    "description: A movie review that I watched during a rough time in my life.\n",
    "image: earl.jpeg\n",
    "show_tags: true\n",
    "title: Me and Earl and the Dying Girl (and myself)\n",
    "---"
   ]
  },
  {
   "cell_type": "markdown",
   "id": "1b3002e7",
   "metadata": {},
   "source": [
    "I loved it. Every moment of it. To my mind, only a few words were lodged in my head as I watched the film, which were poignant enough to set the tone for the ride I was about to experience."
   ]
  },
  {
   "cell_type": "markdown",
   "id": "69354a14",
   "metadata": {},
   "source": [
    "Pausing for a bit; this is the first review I’d read in the top right corner of the Google search on the film."
   ]
  },
  {
   "cell_type": "markdown",
   "id": "ee1c9a8e",
   "metadata": {},
   "source": [
    ">The beauty of “Me and Earl and the Dying Girl” — and it truly is a beautiful film, both visually and emotionally — is that it doesn’t pander to anyone.\n",
    "\n",
    "> \\- S. Jhoanna Robledo, Common Sense Media"
   ]
  },
  {
   "cell_type": "markdown",
   "id": "d5594178",
   "metadata": {},
   "source": [
    "The story is honest and pure; two qualities I admire the most in the world. I strive towards them and even as I write this article, I struggle to meet them. What I’m writing is less of a review, and more of a deep dive into my own subconscious. So let’s dive in."
   ]
  },
  {
   "cell_type": "markdown",
   "id": "296c13f7",
   "metadata": {},
   "source": [
    "Me, and Earl, and the Dying girl, is a story about Greg Gaines — a high school kid who makes movie parodies with his work partner Earl — as he’s forced to console a girl named Rachel, who has just been diagnosed with Leukemia. Rachel rebukes him at first, but she soon goes along with it after seeing Greg’s funny side, in a rather humorous conversation they have, on how she should treat people who ask her stupid questions. This is where Greg, unfortunately, falls in love with her."
   ]
  },
  {
   "cell_type": "markdown",
   "id": "657ffd67",
   "metadata": {},
   "source": [
    "What begins after that is a wonderful tale of their daily meetups and hangouts, and eventually how they finally get *closer*. Greg’s emotional fences, start to crumble down and he gradually shows his truer self. A self that he was never comfortable to reveal."
   ]
  },
  {
   "cell_type": "markdown",
   "id": "142a9547",
   "metadata": {},
   "source": [
    "Greg’s stubborn refusal to fit in to any of his cliques at school, spoke volumes of my own childhood. Instead of befriending people, I spoke less to them, and during college, I was pretty much like him. My intentions were the same in both cases, and the similarity to Greg’s situation, uncanny. He/I did it in order to spare himself/myself the heartbreak of rejection, and his/my self-hating tendencies that were built up, aggravated that feeling. We had experienced the same things growing up, albeit at a slightly slower pace. I really can’t say that I’m better off now, but I’ve learnt to acknowledge those experiences and my feelings much more."
   ]
  },
  {
   "cell_type": "markdown",
   "id": "abc5ba2a",
   "metadata": {},
   "source": [
    "The movie was filled with beautiful scenes from their homemade films, and what was especially noteworthy was the montage of Rachel attempting to watch each (and every) one of their movies. A film about making bad films, and one of the characters loves it!\n",
    "\n"
   ]
  },
  {
   "cell_type": "markdown",
   "id": "6e1fd420",
   "metadata": {},
   "source": [
    "*The plot was simple, and their lives even simpler, yet it made me delighted and happier. And by the end of it, heartbroken.*"
   ]
  },
  {
   "cell_type": "markdown",
   "id": "96f27c79",
   "metadata": {},
   "source": [
    "Perhaps, it was those touching scenes when they huddled together, all comfy and relaxed, watching one flick after another, that the film really portrayed how innocent and simple it all was. There was a possibility of romance, but nothing cropped up; again stating how this film didn’t pander to anyone. I can’t really say any more about the film. It is now, one of my fondest memories."
   ]
  },
  {
   "cell_type": "markdown",
   "id": "98ec08b4",
   "metadata": {},
   "source": [
    "After it was over, I felt a strong sense that I needed to write about it. Almost as if, it rekindled that short and brief moment when I loved writing. So far, I’ve just worked on a stick comic on how colors could be interpreted differently depending on the subject. I might post about this later. And a prose on a crush I once had. Soon after, I struggled to put my pen to paper. Brief as it was, it meant so much to me. This movie made me want to start that again for some reason."
   ]
  },
  {
   "cell_type": "markdown",
   "id": "1776b048",
   "metadata": {},
   "source": [
    "Perhaps, it was Greg’s life as a filmmaker that echoed my own yearnings in life. To make something from nothing; to manufacture a whole world out of sheer joy of seeing it come to life. Where anything was possible…\n",
    "\n",
    "If you’d actually watched the film, you’d probably think it didn’t deserve this much praise, and for lack of a better word, that *I lack taste*. However, knowing how it made me feel in a tumultuous time in my life, I still think my perspective holds. Hope it makes you feel the same way."
   ]
  }
 ],
 "metadata": {
  "kernelspec": {
   "display_name": "Python 3 (ipykernel)",
   "language": "python",
   "name": "python3"
  },
  "language_info": {
   "codemirror_mode": {
    "name": "ipython",
    "version": 3
   },
   "file_extension": ".py",
   "mimetype": "text/x-python",
   "name": "python",
   "nbconvert_exporter": "python",
   "pygments_lexer": "ipython3",
   "version": "3.8.10"
  }
 },
 "nbformat": 4,
 "nbformat_minor": 5
}
